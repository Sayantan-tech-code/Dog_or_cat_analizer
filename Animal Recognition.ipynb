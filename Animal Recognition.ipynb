{
 "cells": [
  {
   "cell_type": "code",
   "execution_count": 1,
   "id": "c8b4b79e-624d-453e-bd78-259796a32a9e",
   "metadata": {},
   "outputs": [
    {
     "name": "stdout",
     "output_type": "stream",
     "text": [
      "Requirement already satisfied: tensorflow in c:\\users\\user\\anaconda3\\lib\\site-packages (2.5.0)Note: you may need to restart the kernel to use updated packages.\n",
      "Requirement already satisfied: absl-py~=0.10 in c:\\users\\user\\anaconda3\\lib\\site-packages (from tensorflow) (0.13.0)\n",
      "Requirement already satisfied: opt-einsum~=3.3.0 in c:\\users\\user\\anaconda3\\lib\\site-packages (from tensorflow) (3.3.0)\n",
      "Requirement already satisfied: termcolor~=1.1.0 in c:\\users\\user\\anaconda3\\lib\\site-packages (from tensorflow) (1.1.0)\n",
      "Requirement already satisfied: keras-preprocessing~=1.1.2 in c:\\users\\user\\anaconda3\\lib\\site-packages (from tensorflow) (1.1.2)\n",
      "Requirement already satisfied: tensorflow-estimator<2.6.0,>=2.5.0rc0 in c:\\users\\user\\anaconda3\\lib\\site-packages (from tensorflow) (2.5.0)\n",
      "Requirement already satisfied: wrapt~=1.12.1 in c:\\users\\user\\anaconda3\\lib\\site-packages (from tensorflow) (1.12.1)\n",
      "Requirement already satisfied: wheel~=0.35 in c:\\users\\user\\anaconda3\\lib\\site-packages (from tensorflow) (0.36.2)\n",
      "Requirement already satisfied: keras-nightly~=2.5.0.dev in c:\\users\\user\\anaconda3\\lib\\site-packages (from tensorflow) (2.5.0.dev2021032900)\n",
      "Requirement already satisfied: google-pasta~=0.2 in c:\\users\\user\\anaconda3\\lib\\site-packages (from tensorflow) (0.2.0)\n",
      "Requirement already satisfied: six~=1.15.0 in c:\\users\\user\\anaconda3\\lib\\site-packages (from tensorflow) (1.15.0)\n",
      "Requirement already satisfied: protobuf>=3.9.2 in c:\\users\\user\\anaconda3\\lib\\site-packages (from tensorflow) (3.17.3)\n",
      "Requirement already satisfied: numpy~=1.19.2 in c:\\users\\user\\anaconda3\\lib\\site-packages (from tensorflow) (1.19.5)\n",
      "\n",
      "Requirement already satisfied: h5py~=3.1.0 in c:\\users\\user\\anaconda3\\lib\\site-packages (from tensorflow) (3.1.0)\n",
      "Requirement already satisfied: typing-extensions~=3.7.4 in c:\\users\\user\\anaconda3\\lib\\site-packages (from tensorflow) (3.7.4.3)\n",
      "Requirement already satisfied: tensorboard~=2.5 in c:\\users\\user\\anaconda3\\lib\\site-packages (from tensorflow) (2.5.0)\n",
      "Requirement already satisfied: flatbuffers~=1.12.0 in c:\\users\\user\\anaconda3\\lib\\site-packages (from tensorflow) (1.12)\n",
      "Requirement already satisfied: gast==0.4.0 in c:\\users\\user\\anaconda3\\lib\\site-packages (from tensorflow) (0.4.0)\n",
      "Requirement already satisfied: astunparse~=1.6.3 in c:\\users\\user\\anaconda3\\lib\\site-packages (from tensorflow) (1.6.3)\n",
      "Requirement already satisfied: grpcio~=1.34.0 in c:\\users\\user\\anaconda3\\lib\\site-packages (from tensorflow) (1.34.1)\n",
      "Requirement already satisfied: setuptools>=41.0.0 in c:\\users\\user\\anaconda3\\lib\\site-packages (from tensorboard~=2.5->tensorflow) (52.0.0.post20210125)\n",
      "Requirement already satisfied: markdown>=2.6.8 in c:\\users\\user\\anaconda3\\lib\\site-packages (from tensorboard~=2.5->tensorflow) (3.3.4)\n",
      "Requirement already satisfied: werkzeug>=0.11.15 in c:\\users\\user\\anaconda3\\lib\\site-packages (from tensorboard~=2.5->tensorflow) (1.0.1)\n",
      "Requirement already satisfied: tensorboard-plugin-wit>=1.6.0 in c:\\users\\user\\anaconda3\\lib\\site-packages (from tensorboard~=2.5->tensorflow) (1.8.0)\n",
      "Requirement already satisfied: tensorboard-data-server<0.7.0,>=0.6.0 in c:\\users\\user\\anaconda3\\lib\\site-packages (from tensorboard~=2.5->tensorflow) (0.6.1)\n",
      "Requirement already satisfied: google-auth<2,>=1.6.3 in c:\\users\\user\\anaconda3\\lib\\site-packages (from tensorboard~=2.5->tensorflow) (1.34.0)\n",
      "Requirement already satisfied: requests<3,>=2.21.0 in c:\\users\\user\\anaconda3\\lib\\site-packages (from tensorboard~=2.5->tensorflow) (2.25.1)\n",
      "Requirement already satisfied: google-auth-oauthlib<0.5,>=0.4.1 in c:\\users\\user\\anaconda3\\lib\\site-packages (from tensorboard~=2.5->tensorflow) (0.4.5)\n",
      "Requirement already satisfied: pyasn1-modules>=0.2.1 in c:\\users\\user\\anaconda3\\lib\\site-packages (from google-auth<2,>=1.6.3->tensorboard~=2.5->tensorflow) (0.2.8)\n",
      "Requirement already satisfied: cachetools<5.0,>=2.0.0 in c:\\users\\user\\anaconda3\\lib\\site-packages (from google-auth<2,>=1.6.3->tensorboard~=2.5->tensorflow) (4.2.2)\n",
      "Requirement already satisfied: rsa<5,>=3.1.4 in c:\\users\\user\\anaconda3\\lib\\site-packages (from google-auth<2,>=1.6.3->tensorboard~=2.5->tensorflow) (4.7.2)\n",
      "Requirement already satisfied: requests-oauthlib>=0.7.0 in c:\\users\\user\\anaconda3\\lib\\site-packages (from google-auth-oauthlib<0.5,>=0.4.1->tensorboard~=2.5->tensorflow) (1.3.0)\n",
      "Requirement already satisfied: pyasn1<0.5.0,>=0.4.6 in c:\\users\\user\\anaconda3\\lib\\site-packages (from pyasn1-modules>=0.2.1->google-auth<2,>=1.6.3->tensorboard~=2.5->tensorflow) (0.4.8)\n",
      "Requirement already satisfied: idna<3,>=2.5 in c:\\users\\user\\anaconda3\\lib\\site-packages (from requests<3,>=2.21.0->tensorboard~=2.5->tensorflow) (2.10)\n",
      "Requirement already satisfied: urllib3<1.27,>=1.21.1 in c:\\users\\user\\anaconda3\\lib\\site-packages (from requests<3,>=2.21.0->tensorboard~=2.5->tensorflow) (1.26.4)\n",
      "Requirement already satisfied: chardet<5,>=3.0.2 in c:\\users\\user\\anaconda3\\lib\\site-packages (from requests<3,>=2.21.0->tensorboard~=2.5->tensorflow) (4.0.0)\n",
      "Requirement already satisfied: certifi>=2017.4.17 in c:\\users\\user\\anaconda3\\lib\\site-packages (from requests<3,>=2.21.0->tensorboard~=2.5->tensorflow) (2020.12.5)\n",
      "Requirement already satisfied: oauthlib>=3.0.0 in c:\\users\\user\\anaconda3\\lib\\site-packages (from requests-oauthlib>=0.7.0->google-auth-oauthlib<0.5,>=0.4.1->tensorboard~=2.5->tensorflow) (3.1.1)\n"
     ]
    }
   ],
   "source": [
    "pip install tensorflow"
   ]
  },
  {
   "cell_type": "code",
   "execution_count": 2,
   "id": "aaf4a5d0-6d1e-4f3e-81af-52b45401875d",
   "metadata": {},
   "outputs": [
    {
     "name": "stdout",
     "output_type": "stream",
     "text": [
      "Requirement already satisfied: keras in c:\\users\\user\\anaconda3\\lib\\site-packages (2.4.3)\n",
      "Requirement already satisfied: scipy>=0.14 in c:\\users\\user\\anaconda3\\lib\\site-packages (from keras) (1.6.2)\n",
      "Requirement already satisfied: numpy>=1.9.1 in c:\\users\\user\\anaconda3\\lib\\site-packages (from keras) (1.19.5)\n",
      "Requirement already satisfied: pyyaml in c:\\users\\user\\anaconda3\\lib\\site-packages (from keras) (5.4.1)\n",
      "Requirement already satisfied: h5py in c:\\users\\user\\anaconda3\\lib\\site-packages (from keras) (3.1.0)\n",
      "Note: you may need to restart the kernel to use updated packages.\n"
     ]
    }
   ],
   "source": [
    "pip install keras"
   ]
  },
  {
   "cell_type": "code",
   "execution_count": 8,
   "id": "aaf65ff2-bcdd-4676-af52-20c7ada28878",
   "metadata": {},
   "outputs": [],
   "source": [
    "import tensorflow as tf\n",
    "from keras.preprocessing.image import ImageDataGenerator"
   ]
  },
  {
   "cell_type": "code",
   "execution_count": 7,
   "id": "1260fb07-0fc5-4946-bd2c-f8196934fbf8",
   "metadata": {},
   "outputs": [
    {
     "data": {
      "text/plain": [
       "'2.5.0'"
      ]
     },
     "execution_count": 7,
     "metadata": {},
     "output_type": "execute_result"
    }
   ],
   "source": [
    "tf.__version__"
   ]
  },
  {
   "cell_type": "code",
   "execution_count": 11,
   "id": "3ab4ad63-ed5d-415c-8c3d-e92089a2c69a",
   "metadata": {},
   "outputs": [
    {
     "name": "stdout",
     "output_type": "stream",
     "text": [
      "Found 8000 images belonging to 2 classes.\n"
     ]
    }
   ],
   "source": [
    "#processing the training set\n",
    "train_datagen = ImageDataGenerator(rescale = 1./255,\n",
    "                                   shear_range = 0.2,\n",
    "                                   zoom_range = 0.2,\n",
    "                                   horizontal_flip = True)\n",
    "training_set = train_datagen.flow_from_directory('Data sets/cat_dogs/training_set',\n",
    "                                                target_size = (64, 64),\n",
    "                                                batch_size = 32,\n",
    "                                                class_mode = 'binary')"
   ]
  },
  {
   "cell_type": "code",
   "execution_count": 12,
   "id": "f9f591db-773b-42c9-b1fe-563aa254744e",
   "metadata": {},
   "outputs": [
    {
     "name": "stdout",
     "output_type": "stream",
     "text": [
      "Found 2000 images belonging to 2 classes.\n"
     ]
    }
   ],
   "source": [
    "#processing the test set\n",
    "test_datagen = ImageDataGenerator(rescale = 1./255)\n",
    "test_set = test_datagen.flow_from_directory('Data sets/cat_dogs/test_set',\n",
    "                                                target_size = (64, 64),\n",
    "                                                batch_size = 32,\n",
    "                                                class_mode = 'binary')"
   ]
  },
  {
   "cell_type": "code",
   "execution_count": 16,
   "id": "de350cf7-9f69-4524-a6dc-a92a1df9ed46",
   "metadata": {},
   "outputs": [],
   "source": [
    "#PART2 - Building the CNN\n",
    "#Initializing the CNN\n",
    "cnn = tf.keras.models.Sequential()"
   ]
  },
  {
   "cell_type": "code",
   "execution_count": 17,
   "id": "0ec6a523-8073-4f07-b13a-0fe1cc2c25d0",
   "metadata": {},
   "outputs": [],
   "source": [
    "#part2\n",
    " #step1 - Convolution\n",
    "cnn.add(tf.keras.layers.Conv2D(filters = 32, kernel_size = 3, activation='relu', input_shape=[64, 64, 3]))\n",
    "#2D convolution\n"
   ]
  },
  {
   "cell_type": "code",
   "execution_count": 18,
   "id": "4dbe71f2-ca7b-446a-a621-59a345c2f351",
   "metadata": {},
   "outputs": [],
   "source": [
    "#STEP2 - POOLING\n",
    "cnn.add(tf.keras.layers.MaxPool2D(pool_size = 2, strides = 2))"
   ]
  },
  {
   "cell_type": "code",
   "execution_count": 19,
   "id": "5483ef80-2e03-412b-98ab-cf921a2d78de",
   "metadata": {},
   "outputs": [],
   "source": [
    "#ADDING A SECOND CONVOLUTIONAL LAYER\n",
    "cnn.add(tf.keras.layers.Conv2D(filters = 32, kernel_size = 3, activation='relu'))\n",
    "cnn.add(tf.keras.layers.MaxPool2D(pool_size = 2, strides = 2))"
   ]
  },
  {
   "cell_type": "code",
   "execution_count": 20,
   "id": "810428c6-aaa2-4ba6-833f-d3ad740eea3c",
   "metadata": {},
   "outputs": [],
   "source": [
    "# STEP3- FLATTENING\n",
    "cnn.add(tf.keras.layers.Flatten())\n"
   ]
  },
  {
   "cell_type": "code",
   "execution_count": 21,
   "id": "99b1ed8d-916a-40dc-83c2-bafc05a29240",
   "metadata": {},
   "outputs": [],
   "source": [
    "#STEP4 - FULLCONECTION\n",
    "cnn.add(tf.keras.layers.Dense(units = 128,activation = 'relu'))"
   ]
  },
  {
   "cell_type": "code",
   "execution_count": 22,
   "id": "a1e89dee-5aae-46ce-aefe-035affff67e5",
   "metadata": {},
   "outputs": [],
   "source": [
    "cnn.add(tf.keras.layers.Dense(units = 1,activation = 'sigmoid'))"
   ]
  },
  {
   "cell_type": "code",
   "execution_count": 23,
   "id": "6d67c70e-5bfc-4d1b-b565-afe42827a5dc",
   "metadata": {},
   "outputs": [],
   "source": [
    "# PART3- TRAINING THE CNN\n",
    "#    COMPILING THE CNN\n",
    "cnn.compile(optimizer = 'adam', loss = 'binary_crossentropy', metrics = ['accuracy'])"
   ]
  },
  {
   "cell_type": "code",
   "execution_count": 24,
   "id": "d4a3f8f6-9f8d-4d2f-b4f3-c923e7a6f67c",
   "metadata": {},
   "outputs": [
    {
     "name": "stdout",
     "output_type": "stream",
     "text": [
      "Epoch 1/20\n",
      "250/250 [==============================] - 153s 608ms/step - loss: 0.6872 - accuracy: 0.5415 - val_loss: 0.6312 - val_accuracy: 0.6725\n",
      "Epoch 2/20\n",
      "250/250 [==============================] - 82s 330ms/step - loss: 0.6224 - accuracy: 0.6580 - val_loss: 0.6164 - val_accuracy: 0.6690\n",
      "Epoch 3/20\n",
      "250/250 [==============================] - 79s 315ms/step - loss: 0.5665 - accuracy: 0.7061 - val_loss: 0.5493 - val_accuracy: 0.7255\n",
      "Epoch 4/20\n",
      "250/250 [==============================] - 79s 317ms/step - loss: 0.5245 - accuracy: 0.7426 - val_loss: 0.5181 - val_accuracy: 0.7560\n",
      "Epoch 5/20\n",
      "250/250 [==============================] - 79s 318ms/step - loss: 0.4954 - accuracy: 0.7545 - val_loss: 0.4848 - val_accuracy: 0.7735\n",
      "Epoch 6/20\n",
      "250/250 [==============================] - 83s 332ms/step - loss: 0.4819 - accuracy: 0.7714 - val_loss: 0.4767 - val_accuracy: 0.7680\n",
      "Epoch 7/20\n",
      "250/250 [==============================] - 79s 315ms/step - loss: 0.4628 - accuracy: 0.7810 - val_loss: 0.5254 - val_accuracy: 0.7400\n",
      "Epoch 8/20\n",
      "250/250 [==============================] - 79s 316ms/step - loss: 0.4467 - accuracy: 0.7859 - val_loss: 0.4615 - val_accuracy: 0.7820\n",
      "Epoch 9/20\n",
      "250/250 [==============================] - 76s 305ms/step - loss: 0.4279 - accuracy: 0.7981 - val_loss: 0.4611 - val_accuracy: 0.7850\n",
      "Epoch 10/20\n",
      "250/250 [==============================] - 78s 310ms/step - loss: 0.4159 - accuracy: 0.8109 - val_loss: 0.4602 - val_accuracy: 0.7925\n",
      "Epoch 11/20\n",
      "250/250 [==============================] - 78s 313ms/step - loss: 0.4054 - accuracy: 0.8111 - val_loss: 0.4338 - val_accuracy: 0.8045\n",
      "Epoch 12/20\n",
      "250/250 [==============================] - 79s 315ms/step - loss: 0.3865 - accuracy: 0.8250 - val_loss: 0.4534 - val_accuracy: 0.7925\n",
      "Epoch 13/20\n",
      "250/250 [==============================] - 78s 311ms/step - loss: 0.3732 - accuracy: 0.8336 - val_loss: 0.4421 - val_accuracy: 0.7970\n",
      "Epoch 14/20\n",
      "250/250 [==============================] - 81s 325ms/step - loss: 0.3683 - accuracy: 0.8339 - val_loss: 0.4598 - val_accuracy: 0.7965\n",
      "Epoch 15/20\n",
      "250/250 [==============================] - 80s 320ms/step - loss: 0.3567 - accuracy: 0.8430 - val_loss: 0.4602 - val_accuracy: 0.7815\n",
      "Epoch 16/20\n",
      "250/250 [==============================] - 82s 329ms/step - loss: 0.3409 - accuracy: 0.8472 - val_loss: 0.4941 - val_accuracy: 0.7780\n",
      "Epoch 17/20\n",
      "250/250 [==============================] - 77s 308ms/step - loss: 0.3263 - accuracy: 0.8605 - val_loss: 0.4495 - val_accuracy: 0.7945\n",
      "Epoch 18/20\n",
      "250/250 [==============================] - 78s 313ms/step - loss: 0.3211 - accuracy: 0.8584 - val_loss: 0.4397 - val_accuracy: 0.7985\n",
      "Epoch 19/20\n",
      "250/250 [==============================] - 78s 310ms/step - loss: 0.3027 - accuracy: 0.8689 - val_loss: 0.5089 - val_accuracy: 0.7925\n",
      "Epoch 20/20\n",
      "250/250 [==============================] - 79s 318ms/step - loss: 0.3021 - accuracy: 0.8673 - val_loss: 0.4853 - val_accuracy: 0.7865\n"
     ]
    },
    {
     "data": {
      "text/plain": [
       "<tensorflow.python.keras.callbacks.History at 0x293913afb50>"
      ]
     },
     "execution_count": 24,
     "metadata": {},
     "output_type": "execute_result"
    }
   ],
   "source": [
    "cnn.fit(x = training_set, validation_data = test_set, epochs = 20)"
   ]
  },
  {
   "cell_type": "code",
   "execution_count": 33,
   "id": "186c3e82-0c4f-44fc-aead-219408f6e845",
   "metadata": {},
   "outputs": [],
   "source": [
    "#MAKING SINGLE PREDICTION\n",
    "import numpy as np\n",
    "from keras.preprocessing import image\n",
    "test_image = image.load_img('Data sets/cat_dogs/Single_prediction/hi.jpg',target_size = (64, 64))\n",
    "test_image = image.img_to_array(test_image)\n",
    "test_image = np.expand_dims(test_image,axis=0)\n",
    "result = cnn.predict(test_image)\n",
    "training_set.class_indices\n",
    "if result[0][0] == 1:\n",
    "    prediction = 'dog'\n",
    "else:\n",
    "    prediction = 'cat'"
   ]
  },
  {
   "cell_type": "code",
   "execution_count": 34,
   "id": "339b1443-e7b5-4291-b547-f998e90febae",
   "metadata": {},
   "outputs": [
    {
     "name": "stdout",
     "output_type": "stream",
     "text": [
      "cat\n"
     ]
    }
   ],
   "source": [
    "print(prediction)"
   ]
  },
  {
   "cell_type": "code",
   "execution_count": null,
   "id": "7f3590c0-0ac8-4888-8207-a4c0d4f33870",
   "metadata": {},
   "outputs": [],
   "source": []
  }
 ],
 "metadata": {
  "kernelspec": {
   "display_name": "Python 3",
   "language": "python",
   "name": "python3"
  },
  "language_info": {
   "codemirror_mode": {
    "name": "ipython",
    "version": 3
   },
   "file_extension": ".py",
   "mimetype": "text/x-python",
   "name": "python",
   "nbconvert_exporter": "python",
   "pygments_lexer": "ipython3",
   "version": "3.8.8"
  }
 },
 "nbformat": 4,
 "nbformat_minor": 5
}
